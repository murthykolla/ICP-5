{
 "cells": [
  {
   "cell_type": "code",
   "execution_count": null,
   "id": "76cfde2f",
   "metadata": {},
   "outputs": [],
   "source": [
    "# 2. Implement linear SVM method using scikit library\n",
    "# Use the same dataset above\n",
    "# Use train_test_split to create training and testing part\n",
    "# Evaluate the model on test part using score and\n",
    "# classification_report(y_true, y_pred)"
   ]
  },
  {
   "cell_type": "code",
   "execution_count": 9,
   "id": "8d1268be",
   "metadata": {
    "scrolled": true
   },
   "outputs": [
    {
     "name": "stdout",
     "output_type": "stream",
     "text": [
      "          RI     Na    Mg    Al     Si     K    Ca    Ba   Fe  Type\n",
      "0    1.52101  13.64  4.49  1.10  71.78  0.06  8.75  0.00  0.0     1\n",
      "1    1.51761  13.89  3.60  1.36  72.73  0.48  7.83  0.00  0.0     1\n",
      "2    1.51618  13.53  3.55  1.54  72.99  0.39  7.78  0.00  0.0     1\n",
      "3    1.51766  13.21  3.69  1.29  72.61  0.57  8.22  0.00  0.0     1\n",
      "4    1.51742  13.27  3.62  1.24  73.08  0.55  8.07  0.00  0.0     1\n",
      "..       ...    ...   ...   ...    ...   ...   ...   ...  ...   ...\n",
      "209  1.51623  14.14  0.00  2.88  72.61  0.08  9.18  1.06  0.0     7\n",
      "210  1.51685  14.92  0.00  1.99  73.06  0.00  8.40  1.59  0.0     7\n",
      "211  1.52065  14.36  0.00  2.02  73.42  0.00  8.44  1.64  0.0     7\n",
      "212  1.51651  14.38  0.00  1.94  73.61  0.00  8.48  1.57  0.0     7\n",
      "213  1.51711  14.23  0.00  2.08  73.36  0.00  8.62  1.67  0.0     7\n",
      "\n",
      "[214 rows x 10 columns]\n",
      "0.9736842105263158\n"
     ]
    }
   ],
   "source": [
    "#importing the certain libraries requried for the SVM Model\n",
    "import pandas as pd\n",
    "from sklearn.svm._libsvm import predict\n",
    "#reading the csv file for dataframe\n",
    "dataFrame = pd.read_csv(\"/Users/vvsmurthykolla/Downloads/NNDL_Code and Data 2/glass.csv\")\n",
    "#printing the datafrane \n",
    "print(dataFrame)\n",
    "#importing the various libraries used by the Linear_SVM method\n",
    "from sklearn import datasets, metrics\n",
    "from sklearn.metrics import confusion_matrix, accuracy_score, classification_report\n",
    "from sklearn.model_selection import train_test_split\n",
    "#Load and return the iris dataset (classification).\n",
    "dataFrame = datasets.load_iris()\n",
    "# to provide labels for x and y axis x - features and y will be labels\n",
    "X = dataFrame.data\n",
    "y = dataFrame.target\n",
    "# splitting  X and Y into train and test data\n",
    "X_train, X_test, y_train, y_test = train_test_split(X, y, random_state = 0)\n",
    "# training a linear SVM classifier\n",
    "from sklearn.svm import SVC\n",
    "svm_model_linear = SVC(kernel = 'linear', C = 1).fit(X_train, y_train)\n",
    "svm_predictions = svm_model_linear.predict(X_test)\n",
    "# model accuracy for X_test\n",
    "accuracy = svm_model_linear.score(X_test, y_test)\n",
    "#print the the accuracy\n",
    "print(accuracy)\n",
    "\n"
   ]
  },
  {
   "cell_type": "code",
   "execution_count": null,
   "id": "8dbba253",
   "metadata": {},
   "outputs": [],
   "source": []
  },
  {
   "cell_type": "code",
   "execution_count": null,
   "id": "d4d7dd7e",
   "metadata": {},
   "outputs": [],
   "source": [
    "# Which algorithm you got better accuracy? Can you justify why?"
   ]
  },
  {
   "cell_type": "markdown",
   "id": "c6b9f70f",
   "metadata": {},
   "source": [
    "# justfication \n",
    "Linear_SVM method accuracy is o.97 which is greaterthan the Naïve Bayes method accuracy 0.48 .This is beacuse the Naïve Bayes method feature are treated independently and the feature in the lin.ear SVM model are using the non-linear kernel.so linear SVM model have more accuracy is than the Naïve Bayes method"
   ]
  }
 ],
 "metadata": {
  "kernelspec": {
   "display_name": "Python 3 (ipykernel)",
   "language": "python",
   "name": "python3"
  },
  "language_info": {
   "codemirror_mode": {
    "name": "ipython",
    "version": 3
   },
   "file_extension": ".py",
   "mimetype": "text/x-python",
   "name": "python",
   "nbconvert_exporter": "python",
   "pygments_lexer": "ipython3",
   "version": "3.8.12"
  }
 },
 "nbformat": 4,
 "nbformat_minor": 5
}
